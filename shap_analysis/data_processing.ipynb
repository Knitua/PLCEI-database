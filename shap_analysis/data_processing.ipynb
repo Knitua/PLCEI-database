{
 "cells": [
  {
   "cell_type": "code",
   "execution_count": null,
   "id": "2e9e0b07",
   "metadata": {},
   "outputs": [],
   "source": [
    "import pandas as pd\n",
    "from openpyxl.utils import column_index_from_string\n",
    "\n",
    "df_resin = pd.read_excel(\"GWPfinal_resinresult.xlsx\")\n",
    "df_result = pd.read_excel(\"RESULT_undeal5.xlsx\")\n",
    "\n",
    "column_letters = ['AU','AW','BG','BL','BM','BN','BO','BP','BQ','DD','DE','DF','DH','DI','DJ','DK','DL','DM','DN']\n",
    "\n",
    "column_indices = [column_index_from_string(col_letter) - 1 for col_letter in column_letters]\n",
    "\n",
    "df_result_subset = df_result.iloc[:, [df_result.columns.get_loc('NUM')] + column_indices]\n",
    "df_resin['NUM'] = df_resin['NUM'].astype(float).astype(str).str.strip()\n",
    "df_result_subset['NUM'] = df_result_subset['NUM'].astype(str).str.strip()\n",
    "\n",
    "\n",
    "\n",
    "df_merged = pd.merge(df_resin, df_result_subset, on='NUM', how='left')\n",
    "\n",
    "df_merged.to_excel(\"mergedata.xlsx\", index=False)\n",
    "print(df_resin['NUM'].head(10))\n",
    "print(df_result['NUM'].head(10))\n",
    "print(set(df_resin['NUM']) & set(df_result['NUM']))  \n",
    "\n"
   ]
  },
  {
   "cell_type": "code",
   "execution_count": null,
   "id": "7639e109",
   "metadata": {},
   "outputs": [],
   "source": [
    "import pandas as pd\n",
    "\n",
    "df = pd.read_excel(\"mergedata.xlsx\")\n",
    "for col in df.columns:\n",
    "    unique_count = df[col].nunique(dropna=True)  \n",
    "    print(f\"{col}: {unique_count}\")\n"
   ]
  },
  {
   "cell_type": "code",
   "execution_count": null,
   "id": "3947b3b0",
   "metadata": {},
   "outputs": [],
   "source": [
    "import pandas as pd\n",
    "import re\n",
    "\n",
    "df = pd.read_excel(\"mergedata.xlsx\")\n",
    "target_columns = df.columns[7:12]\n",
    "\n",
    "\n",
    "def remove_parentheses(text):\n",
    "    if isinstance(text, str):\n",
    "        return re.sub(r'\\s*\\(.*?\\)', '', text)\n",
    "    return text\n",
    "for col in target_columns:\n",
    "    df[col] = df[col].apply(remove_parentheses)\n",
    "\n",
    "df.to_excel(\"mergedata_cleaned.xlsx\", index=False)\n"
   ]
  },
  {
   "cell_type": "code",
   "execution_count": null,
   "id": "461fff87",
   "metadata": {},
   "outputs": [],
   "source": [
    "import pandas as pd\n",
    "\n",
    "\n",
    "df = pd.read_excel(\"mergedata_cleaned.xlsx\")\n",
    "categorical_cols = ['Resin Type', 'Location1', 'LCIA_Method1']\n",
    "df = pd.get_dummies(df, columns=categorical_cols)\n",
    "lci_cols = ['LCI_source1', 'LCI_source2', 'LCI_source3', 'LCI_source4', 'LCI_source5']\n",
    "\n",
    "all_sources = set()\n",
    "for col in lci_cols:\n",
    "    all_sources.update(df[col].dropna().astype(str).str.strip().unique())\n",
    "\n",
    "\n",
    "invalid_values = {'N', 'n', 'none', 'nan', 'NaN'}\n",
    "all_sources = {s for s in all_sources if s not in invalid_values}\n",
    "for source in all_sources:\n",
    "    colname = f\"source_{source.lower().replace(' ', '_')}\"\n",
    "    df[colname] = df[lci_cols].apply(lambda row: int(source in row.values), axis=1)\n",
    "\n",
    "\n",
    "df.drop(columns=lci_cols, inplace=True)\n",
    "\n",
    "\n",
    "df.to_excel(\"mergedata_onehot_full.xlsx\", index=False)\n",
    "\n",
    "\n"
   ]
  }
 ],
 "metadata": {
  "kernelspec": {
   "display_name": "base",
   "language": "python",
   "name": "python3"
  },
  "language_info": {
   "codemirror_mode": {
    "name": "ipython",
    "version": 3
   },
   "file_extension": ".py",
   "mimetype": "text/x-python",
   "name": "python",
   "nbconvert_exporter": "python",
   "pygments_lexer": "ipython3",
   "version": "3.10.12"
  }
 },
 "nbformat": 4,
 "nbformat_minor": 5
}
